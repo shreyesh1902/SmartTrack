{
 "cells": [
  {
   "cell_type": "code",
   "execution_count": 1,
   "metadata": {},
   "outputs": [
    {
     "name": "stdout",
     "output_type": "stream",
     "text": [
      "Collecting pandas\n",
      "  Downloading pandas-2.2.3-cp313-cp313-win_amd64.whl.metadata (19 kB)\n",
      "Collecting numpy>=1.26.0 (from pandas)\n",
      "  Downloading numpy-2.1.2-cp313-cp313-win_amd64.whl.metadata (59 kB)\n",
      "Requirement already satisfied: python-dateutil>=2.8.2 in c:\\users\\b vishnu\\appdata\\roaming\\python\\python313\\site-packages (from pandas) (2.9.0.post0)\n",
      "Collecting pytz>=2020.1 (from pandas)\n",
      "  Downloading pytz-2024.2-py2.py3-none-any.whl.metadata (22 kB)\n",
      "Collecting tzdata>=2022.7 (from pandas)\n",
      "  Downloading tzdata-2024.2-py2.py3-none-any.whl.metadata (1.4 kB)\n",
      "Requirement already satisfied: six>=1.5 in c:\\users\\b vishnu\\appdata\\roaming\\python\\python313\\site-packages (from python-dateutil>=2.8.2->pandas) (1.16.0)\n",
      "Downloading pandas-2.2.3-cp313-cp313-win_amd64.whl (11.5 MB)\n",
      "   ---------------------------------------- 0.0/11.5 MB ? eta -:--:--\n",
      "    --------------------------------------- 0.3/11.5 MB ? eta -:--:--\n",
      "   -- ------------------------------------- 0.8/11.5 MB 2.1 MB/s eta 0:00:06\n",
      "   ---- ----------------------------------- 1.3/11.5 MB 2.2 MB/s eta 0:00:05\n",
      "   ------ --------------------------------- 1.8/11.5 MB 2.2 MB/s eta 0:00:05\n",
      "   ------- -------------------------------- 2.1/11.5 MB 2.0 MB/s eta 0:00:05\n",
      "   -------- ------------------------------- 2.4/11.5 MB 2.1 MB/s eta 0:00:05\n",
      "   ---------- ----------------------------- 3.1/11.5 MB 2.2 MB/s eta 0:00:04\n",
      "   ------------ --------------------------- 3.7/11.5 MB 2.2 MB/s eta 0:00:04\n",
      "   -------------- ------------------------- 4.2/11.5 MB 2.3 MB/s eta 0:00:04\n",
      "   ---------------- ----------------------- 4.7/11.5 MB 2.3 MB/s eta 0:00:03\n",
      "   ------------------ --------------------- 5.2/11.5 MB 2.3 MB/s eta 0:00:03\n",
      "   -------------------- ------------------- 5.8/11.5 MB 2.4 MB/s eta 0:00:03\n",
      "   --------------------- ------------------ 6.3/11.5 MB 2.4 MB/s eta 0:00:03\n",
      "   ----------------------- ---------------- 6.8/11.5 MB 2.4 MB/s eta 0:00:02\n",
      "   ------------------------ --------------- 7.1/11.5 MB 2.4 MB/s eta 0:00:02\n",
      "   --------------------------- ------------ 7.9/11.5 MB 2.3 MB/s eta 0:00:02\n",
      "   ----------------------------- ---------- 8.4/11.5 MB 2.4 MB/s eta 0:00:02\n",
      "   ----------------------------- ---------- 8.4/11.5 MB 2.4 MB/s eta 0:00:02\n",
      "   ----------------------------- ---------- 8.4/11.5 MB 2.4 MB/s eta 0:00:02\n",
      "   ------------------------------- -------- 8.9/11.5 MB 2.1 MB/s eta 0:00:02\n",
      "   -------------------------------- ------- 9.4/11.5 MB 2.2 MB/s eta 0:00:01\n",
      "   ---------------------------------- ----- 10.0/11.5 MB 2.2 MB/s eta 0:00:01\n",
      "   ----------------------------------- ---- 10.2/11.5 MB 2.2 MB/s eta 0:00:01\n",
      "   ------------------------------------ --- 10.5/11.5 MB 2.2 MB/s eta 0:00:01\n",
      "   -------------------------------------- - 11.0/11.5 MB 2.1 MB/s eta 0:00:01\n",
      "   ---------------------------------------- 11.5/11.5 MB 2.1 MB/s eta 0:00:00\n",
      "Downloading numpy-2.1.2-cp313-cp313-win_amd64.whl (12.6 MB)\n",
      "   ---------------------------------------- 0.0/12.6 MB ? eta -:--:--\n",
      "   ---------------------------------------- 0.0/12.6 MB ? eta -:--:--\n",
      "   -- ------------------------------------- 0.8/12.6 MB 2.8 MB/s eta 0:00:05\n",
      "   ---- ----------------------------------- 1.3/12.6 MB 2.6 MB/s eta 0:00:05\n",
      "   ---- ----------------------------------- 1.3/12.6 MB 2.6 MB/s eta 0:00:05\n",
      "   ----- ---------------------------------- 1.8/12.6 MB 2.1 MB/s eta 0:00:06\n",
      "   ------- -------------------------------- 2.4/12.6 MB 2.0 MB/s eta 0:00:06\n",
      "   -------- ------------------------------- 2.6/12.6 MB 2.1 MB/s eta 0:00:05\n",
      "   ---------- ----------------------------- 3.1/12.6 MB 2.0 MB/s eta 0:00:05\n",
      "   ---------- ----------------------------- 3.4/12.6 MB 1.9 MB/s eta 0:00:05\n",
      "   ---------- ----------------------------- 3.4/12.6 MB 1.9 MB/s eta 0:00:05\n",
      "   ------------ --------------------------- 3.9/12.6 MB 1.8 MB/s eta 0:00:05\n",
      "   ------------- -------------------------- 4.2/12.6 MB 1.7 MB/s eta 0:00:05\n",
      "   -------------- ------------------------- 4.5/12.6 MB 1.7 MB/s eta 0:00:05\n",
      "   --------------- ------------------------ 4.7/12.6 MB 1.7 MB/s eta 0:00:05\n",
      "   --------------- ------------------------ 4.7/12.6 MB 1.7 MB/s eta 0:00:05\n",
      "   --------------- ------------------------ 4.7/12.6 MB 1.7 MB/s eta 0:00:05\n",
      "   ---------------- ----------------------- 5.2/12.6 MB 1.5 MB/s eta 0:00:05\n",
      "   ------------------ --------------------- 5.8/12.6 MB 1.6 MB/s eta 0:00:05\n",
      "   ------------------- -------------------- 6.0/12.6 MB 1.5 MB/s eta 0:00:05\n",
      "   -------------------- ------------------- 6.3/12.6 MB 1.5 MB/s eta 0:00:05\n",
      "   --------------------- ------------------ 6.8/12.6 MB 1.6 MB/s eta 0:00:04\n",
      "   --------------------- ------------------ 6.8/12.6 MB 1.6 MB/s eta 0:00:04\n",
      "   ----------------------- ---------------- 7.3/12.6 MB 1.6 MB/s eta 0:00:04\n",
      "   ------------------------- -------------- 7.9/12.6 MB 1.6 MB/s eta 0:00:03\n",
      "   ------------------------- -------------- 8.1/12.6 MB 1.6 MB/s eta 0:00:03\n",
      "   --------------------------- ------------ 8.7/12.6 MB 1.6 MB/s eta 0:00:03\n",
      "   ---------------------------- ----------- 8.9/12.6 MB 1.6 MB/s eta 0:00:03\n",
      "   ----------------------------- ---------- 9.2/12.6 MB 1.6 MB/s eta 0:00:03\n",
      "   ------------------------------ --------- 9.7/12.6 MB 1.6 MB/s eta 0:00:02\n",
      "   ------------------------------- -------- 10.0/12.6 MB 1.6 MB/s eta 0:00:02\n",
      "   -------------------------------- ------- 10.2/12.6 MB 1.6 MB/s eta 0:00:02\n",
      "   ---------------------------------- ----- 10.7/12.6 MB 1.6 MB/s eta 0:00:02\n",
      "   ----------------------------------- ---- 11.0/12.6 MB 1.6 MB/s eta 0:00:01\n",
      "   ----------------------------------- ---- 11.3/12.6 MB 1.6 MB/s eta 0:00:01\n",
      "   ------------------------------------- -- 11.8/12.6 MB 1.6 MB/s eta 0:00:01\n",
      "   -------------------------------------- - 12.1/12.6 MB 1.6 MB/s eta 0:00:01\n",
      "   ---------------------------------------  12.3/12.6 MB 1.6 MB/s eta 0:00:01\n",
      "   ---------------------------------------- 12.6/12.6 MB 1.6 MB/s eta 0:00:00\n",
      "Downloading pytz-2024.2-py2.py3-none-any.whl (508 kB)\n",
      "Downloading tzdata-2024.2-py2.py3-none-any.whl (346 kB)\n",
      "Installing collected packages: pytz, tzdata, numpy, pandas\n",
      "Successfully installed numpy-2.1.2 pandas-2.2.3 pytz-2024.2 tzdata-2024.2\n",
      "Note: you may need to restart the kernel to use updated packages.\n"
     ]
    },
    {
     "name": "stderr",
     "output_type": "stream",
     "text": [
      "  WARNING: The scripts f2py.exe and numpy-config.exe are installed in 'c:\\Users\\B VISHNU\\AppData\\Local\\Programs\\Python\\Python313\\Scripts' which is not on PATH.\n",
      "  Consider adding this directory to PATH or, if you prefer to suppress this warning, use --no-warn-script-location.\n",
      "\n",
      "[notice] A new release of pip is available: 24.2 -> 24.3.1\n",
      "[notice] To update, run: python.exe -m pip install --upgrade pip\n"
     ]
    }
   ],
   "source": [
    "%pip install pandas\n"
   ]
  },
  {
   "cell_type": "code",
   "execution_count": 2,
   "metadata": {},
   "outputs": [
    {
     "name": "stdout",
     "output_type": "stream",
     "text": [
      "Requirement already satisfied: pandas in c:\\users\\b vishnu\\appdata\\local\\programs\\python\\python313\\lib\\site-packages (2.2.3)\n",
      "Requirement already satisfied: numpy in c:\\users\\b vishnu\\appdata\\local\\programs\\python\\python313\\lib\\site-packages (2.1.2)\n",
      "Collecting opencv-python\n",
      "  Downloading opencv_python-4.10.0.84-cp37-abi3-win_amd64.whl.metadata (20 kB)\n",
      "Requirement already satisfied: python-dateutil>=2.8.2 in c:\\users\\b vishnu\\appdata\\roaming\\python\\python313\\site-packages (from pandas) (2.9.0.post0)\n",
      "Requirement already satisfied: pytz>=2020.1 in c:\\users\\b vishnu\\appdata\\local\\programs\\python\\python313\\lib\\site-packages (from pandas) (2024.2)\n",
      "Requirement already satisfied: tzdata>=2022.7 in c:\\users\\b vishnu\\appdata\\local\\programs\\python\\python313\\lib\\site-packages (from pandas) (2024.2)\n",
      "Requirement already satisfied: six>=1.5 in c:\\users\\b vishnu\\appdata\\roaming\\python\\python313\\site-packages (from python-dateutil>=2.8.2->pandas) (1.16.0)\n",
      "Downloading opencv_python-4.10.0.84-cp37-abi3-win_amd64.whl (38.8 MB)\n",
      "   ---------------------------------------- 0.0/38.8 MB ? eta -:--:--\n",
      "   ---------------------------------------- 0.0/38.8 MB ? eta -:--:--\n",
      "   ---------------------------------------- 0.3/38.8 MB ? eta -:--:--\n",
      "    --------------------------------------- 0.8/38.8 MB 2.2 MB/s eta 0:00:18\n",
      "   - -------------------------------------- 1.3/38.8 MB 2.6 MB/s eta 0:00:15\n",
      "   -- ------------------------------------- 2.4/38.8 MB 3.2 MB/s eta 0:00:12\n",
      "   --- ------------------------------------ 3.7/38.8 MB 3.9 MB/s eta 0:00:10\n",
      "   ----- ---------------------------------- 5.5/38.8 MB 4.8 MB/s eta 0:00:07\n",
      "   -------- ------------------------------- 7.9/38.8 MB 5.9 MB/s eta 0:00:06\n",
      "   ---------- ----------------------------- 10.5/38.8 MB 6.7 MB/s eta 0:00:05\n",
      "   ------------- -------------------------- 12.8/38.8 MB 7.3 MB/s eta 0:00:04\n",
      "   --------------- ------------------------ 15.2/38.8 MB 7.8 MB/s eta 0:00:04\n",
      "   ------------------ --------------------- 17.8/38.8 MB 8.2 MB/s eta 0:00:03\n",
      "   -------------------- ------------------- 20.2/38.8 MB 8.5 MB/s eta 0:00:03\n",
      "   ----------------------- ---------------- 22.5/38.8 MB 8.8 MB/s eta 0:00:02\n",
      "   ------------------------- -------------- 24.9/38.8 MB 9.0 MB/s eta 0:00:02\n",
      "   ---------------------------- ----------- 27.5/38.8 MB 9.2 MB/s eta 0:00:02\n",
      "   ------------------------------ --------- 29.9/38.8 MB 9.4 MB/s eta 0:00:01\n",
      "   --------------------------------- ------ 32.2/38.8 MB 9.5 MB/s eta 0:00:01\n",
      "   ----------------------------------- ---- 34.9/38.8 MB 9.7 MB/s eta 0:00:01\n",
      "   -------------------------------------- - 37.0/38.8 MB 9.7 MB/s eta 0:00:01\n",
      "   ---------------------------------------  38.8/38.8 MB 9.8 MB/s eta 0:00:01\n",
      "   ---------------------------------------- 38.8/38.8 MB 9.6 MB/s eta 0:00:00\n",
      "Installing collected packages: opencv-python\n",
      "Successfully installed opencv-python-4.10.0.84\n",
      "Note: you may need to restart the kernel to use updated packages.\n"
     ]
    },
    {
     "name": "stderr",
     "output_type": "stream",
     "text": [
      "\n",
      "[notice] A new release of pip is available: 24.2 -> 24.3.1\n",
      "[notice] To update, run: python.exe -m pip install --upgrade pip\n"
     ]
    }
   ],
   "source": [
    "%pip install pandas numpy opencv-python\n"
   ]
  },
  {
   "cell_type": "code",
   "execution_count": 3,
   "metadata": {},
   "outputs": [
    {
     "name": "stdout",
     "output_type": "stream",
     "text": [
      "Collecting openpyxl\n",
      "  Downloading openpyxl-3.1.5-py2.py3-none-any.whl.metadata (2.5 kB)\n",
      "Collecting et-xmlfile (from openpyxl)\n",
      "  Downloading et_xmlfile-2.0.0-py3-none-any.whl.metadata (2.7 kB)\n",
      "Downloading openpyxl-3.1.5-py2.py3-none-any.whl (250 kB)\n",
      "Downloading et_xmlfile-2.0.0-py3-none-any.whl (18 kB)\n",
      "Installing collected packages: et-xmlfile, openpyxl\n",
      "Successfully installed et-xmlfile-2.0.0 openpyxl-3.1.5\n",
      "Note: you may need to restart the kernel to use updated packages.\n"
     ]
    },
    {
     "name": "stderr",
     "output_type": "stream",
     "text": [
      "\n",
      "[notice] A new release of pip is available: 24.2 -> 24.3.1\n",
      "[notice] To update, run: python.exe -m pip install --upgrade pip\n"
     ]
    }
   ],
   "source": [
    "%pip install openpyxl\n"
   ]
  },
  {
   "cell_type": "code",
   "execution_count": 5,
   "metadata": {},
   "outputs": [
    {
     "name": "stdout",
     "output_type": "stream",
     "text": [
      "Requirement already satisfied: pip in c:\\users\\b vishnu\\appdata\\local\\programs\\python\\python313\\lib\\site-packages (24.2)\n",
      "Collecting pip\n",
      "  Downloading pip-24.3.1-py3-none-any.whl.metadata (3.7 kB)\n",
      "Downloading pip-24.3.1-py3-none-any.whl (1.8 MB)\n",
      "   ---------------------------------------- 0.0/1.8 MB ? eta -:--:--\n",
      "   ----- ---------------------------------- 0.3/1.8 MB ? eta -:--:--\n",
      "   ----------- ---------------------------- 0.5/1.8 MB 1.2 MB/s eta 0:00:02\n",
      "   ----------------------- ---------------- 1.0/1.8 MB 1.9 MB/s eta 0:00:01\n",
      "   ---------------------------- ----------- 1.3/1.8 MB 1.7 MB/s eta 0:00:01\n",
      "   ---------------------------------- ----- 1.6/1.8 MB 1.7 MB/s eta 0:00:01\n",
      "   ---------------------------------------- 1.8/1.8 MB 1.5 MB/s eta 0:00:00\n",
      "Installing collected packages: pip\n",
      "  Attempting uninstall: pip\n",
      "    Found existing installation: pip 24.2\n",
      "    Uninstalling pip-24.2:\n",
      "      Successfully uninstalled pip-24.2\n",
      "Successfully installed pip-24.3.1\n"
     ]
    },
    {
     "name": "stderr",
     "output_type": "stream",
     "text": [
      "  WARNING: The scripts pip.exe, pip3.13.exe and pip3.exe are installed in 'c:\\Users\\B VISHNU\\AppData\\Local\\Programs\\Python\\Python313\\Scripts' which is not on PATH.\n",
      "  Consider adding this directory to PATH or, if you prefer to suppress this warning, use --no-warn-script-location.\n"
     ]
    }
   ],
   "source": [
    "!python -m pip install --upgrade pip\n",
    "\n"
   ]
  },
  {
   "cell_type": "code",
   "execution_count": 1,
   "metadata": {},
   "outputs": [
    {
     "name": "stdout",
     "output_type": "stream",
     "text": [
      "cmake version 3.31.0-rc3\n",
      "\n",
      "CMake suite maintained and supported by Kitware (kitware.com/cmake).\n"
     ]
    }
   ],
   "source": [
    "!cmake --version\n"
   ]
  },
  {
   "cell_type": "code",
   "execution_count": null,
   "metadata": {},
   "outputs": [],
   "source": []
  },
  {
   "cell_type": "code",
   "execution_count": 2,
   "metadata": {},
   "outputs": [
    {
     "name": "stdout",
     "output_type": "stream",
     "text": [
      "Collecting dlib\n",
      "  Using cached dlib-19.24.6.tar.gz (3.4 MB)\n",
      "  Installing build dependencies: started\n",
      "  Installing build dependencies: finished with status 'done'\n",
      "  Getting requirements to build wheel: started\n",
      "  Getting requirements to build wheel: finished with status 'done'\n",
      "  Preparing metadata (pyproject.toml): started\n",
      "  Preparing metadata (pyproject.toml): finished with status 'done'\n",
      "Building wheels for collected packages: dlib\n",
      "  Building wheel for dlib (pyproject.toml): started\n",
      "  Building wheel for dlib (pyproject.toml): finished with status 'error'\n",
      "Failed to build dlib\n",
      "Note: you may need to restart the kernel to use updated packages.\n"
     ]
    },
    {
     "name": "stderr",
     "output_type": "stream",
     "text": [
      "  error: subprocess-exited-with-error\n",
      "  \n",
      "  × Building wheel for dlib (pyproject.toml) did not run successfully.\n",
      "  │ exit code: 1\n",
      "  ╰─> [117 lines of output]\n",
      "      <string>:234: SyntaxWarning: invalid escape sequence '\\('\n",
      "      <string>:235: SyntaxWarning: invalid escape sequence '\\('\n",
      "      <string>:236: SyntaxWarning: invalid escape sequence '\\('\n",
      "      running bdist_wheel\n",
      "      running build\n",
      "      running build_ext\n",
      "      <string>:163: DeprecationWarning: distutils Version classes are deprecated. Use packaging.version instead.\n",
      "      Building extension for Python 3.13.0 (tags/v3.13.0:60403a5, Oct  7 2024, 09:38:07) [MSC v.1941 64 bit (AMD64)]\n",
      "      Invoking CMake setup: 'cmake C:\\Users\\B VISHNU\\AppData\\Local\\Temp\\pip-install-61dann05\\dlib_2237fdda286e41b4be77ec5bb71ec7e0\\tools\\python -DCMAKE_LIBRARY_OUTPUT_DIRECTORY=C:\\Users\\B VISHNU\\AppData\\Local\\Temp\\pip-install-61dann05\\dlib_2237fdda286e41b4be77ec5bb71ec7e0\\build\\lib.win-amd64-cpython-313 -DPYTHON_EXECUTABLE=c:\\Users\\B VISHNU\\AppData\\Local\\Programs\\Python\\Python313\\python.exe -DDLIB_USE_FFMPEG=OFF -DCMAKE_LIBRARY_OUTPUT_DIRECTORY_RELEASE=C:\\Users\\B VISHNU\\AppData\\Local\\Temp\\pip-install-61dann05\\dlib_2237fdda286e41b4be77ec5bb71ec7e0\\build\\lib.win-amd64-cpython-313 -A x64'\n",
      "      -- Building for: NMake Makefiles\n",
      "      CMake Deprecation Warning at CMakeLists.txt:2 (CMAKE_MINIMUM_REQUIRED):\n",
      "        Compatibility with CMake < 3.10 will be removed from a future version of\n",
      "        CMake.\n",
      "      \n",
      "        Update the VERSION argument <min> value or use a ...<max> suffix to tell\n",
      "        CMake that the project does not need compatibility with older versions.\n",
      "      \n",
      "      \n",
      "      CMake Error at CMakeLists.txt:5 (message):\n",
      "      \n",
      "      \n",
      "      \n",
      "        !!!!!!!!!!!!!!!!!!!!!!!!!!!!!!!!!!!!!!!!!!!!!!!!!!!!!!!!!!!!!!!!!!!!!!!!!!!!!!!\n",
      "      \n",
      "      \n",
      "        You must use Visual Studio to build a python extension on windows.  If you\n",
      "        are getting this error it means you have not installed Visual C++.  Note\n",
      "        that there are many flavors of Visual Studio, like Visual Studio for C#\n",
      "        development.  You need to install Visual Studio for C++.\n",
      "      \n",
      "      \n",
      "        !!!!!!!!!!!!!!!!!!!!!!!!!!!!!!!!!!!!!!!!!!!!!!!!!!!!!!!!!!!!!!!!!!!!!!!!!!!!!!!\n",
      "      \n",
      "      \n",
      "      \n",
      "      \n",
      "      -- Configuring incomplete, errors occurred!\n",
      "      Traceback (most recent call last):\n",
      "        File \"c:\\Users\\B VISHNU\\AppData\\Local\\Programs\\Python\\Python313\\Lib\\site-packages\\pip\\_vendor\\pyproject_hooks\\_in_process\\_in_process.py\", line 353, in <module>\n",
      "          main()\n",
      "          ~~~~^^\n",
      "        File \"c:\\Users\\B VISHNU\\AppData\\Local\\Programs\\Python\\Python313\\Lib\\site-packages\\pip\\_vendor\\pyproject_hooks\\_in_process\\_in_process.py\", line 335, in main\n",
      "          json_out['return_val'] = hook(**hook_input['kwargs'])\n",
      "                                   ~~~~^^^^^^^^^^^^^^^^^^^^^^^^\n",
      "        File \"c:\\Users\\B VISHNU\\AppData\\Local\\Programs\\Python\\Python313\\Lib\\site-packages\\pip\\_vendor\\pyproject_hooks\\_in_process\\_in_process.py\", line 251, in build_wheel\n",
      "          return _build_backend().build_wheel(wheel_directory, config_settings,\n",
      "                 ~~~~~~~~~~~~~~~~~~~~~~~~~~~~^^^^^^^^^^^^^^^^^^^^^^^^^^^^^^^^^^\n",
      "                                              metadata_directory)\n",
      "                                              ^^^^^^^^^^^^^^^^^^^\n",
      "        File \"C:\\Users\\B VISHNU\\AppData\\Local\\Temp\\pip-build-env-ccpsu3_3\\overlay\\Lib\\site-packages\\setuptools\\build_meta.py\", line 437, in build_wheel\n",
      "          return _build(['bdist_wheel', '--dist-info-dir', str(metadata_directory)])\n",
      "        File \"C:\\Users\\B VISHNU\\AppData\\Local\\Temp\\pip-build-env-ccpsu3_3\\overlay\\Lib\\site-packages\\setuptools\\build_meta.py\", line 425, in _build\n",
      "          return self._build_with_temp_dir(\n",
      "                 ~~~~~~~~~~~~~~~~~~~~~~~~~^\n",
      "              cmd,\n",
      "              ^^^^\n",
      "          ...<3 lines>...\n",
      "              self._arbitrary_args(config_settings),\n",
      "              ^^^^^^^^^^^^^^^^^^^^^^^^^^^^^^^^^^^^^^\n",
      "          )\n",
      "          ^\n",
      "        File \"C:\\Users\\B VISHNU\\AppData\\Local\\Temp\\pip-build-env-ccpsu3_3\\overlay\\Lib\\site-packages\\setuptools\\build_meta.py\", line 406, in _build_with_temp_dir\n",
      "          self.run_setup()\n",
      "          ~~~~~~~~~~~~~~^^\n",
      "        File \"C:\\Users\\B VISHNU\\AppData\\Local\\Temp\\pip-build-env-ccpsu3_3\\overlay\\Lib\\site-packages\\setuptools\\build_meta.py\", line 521, in run_setup\n",
      "          super().run_setup(setup_script=setup_script)\n",
      "          ~~~~~~~~~~~~~~~~~^^^^^^^^^^^^^^^^^^^^^^^^^^^\n",
      "        File \"C:\\Users\\B VISHNU\\AppData\\Local\\Temp\\pip-build-env-ccpsu3_3\\overlay\\Lib\\site-packages\\setuptools\\build_meta.py\", line 319, in run_setup\n",
      "          exec(code, locals())\n",
      "          ~~~~^^^^^^^^^^^^^^^^\n",
      "        File \"<string>\", line 243, in <module>\n",
      "        File \"C:\\Users\\B VISHNU\\AppData\\Local\\Temp\\pip-build-env-ccpsu3_3\\overlay\\Lib\\site-packages\\setuptools\\__init__.py\", line 117, in setup\n",
      "          return distutils.core.setup(**attrs)\n",
      "                 ~~~~~~~~~~~~~~~~~~~~^^^^^^^^^\n",
      "        File \"C:\\Users\\B VISHNU\\AppData\\Local\\Temp\\pip-build-env-ccpsu3_3\\overlay\\Lib\\site-packages\\setuptools\\_distutils\\core.py\", line 183, in setup\n",
      "          return run_commands(dist)\n",
      "        File \"C:\\Users\\B VISHNU\\AppData\\Local\\Temp\\pip-build-env-ccpsu3_3\\overlay\\Lib\\site-packages\\setuptools\\_distutils\\core.py\", line 199, in run_commands\n",
      "          dist.run_commands()\n",
      "          ~~~~~~~~~~~~~~~~~^^\n",
      "        File \"C:\\Users\\B VISHNU\\AppData\\Local\\Temp\\pip-build-env-ccpsu3_3\\overlay\\Lib\\site-packages\\setuptools\\_distutils\\dist.py\", line 954, in run_commands\n",
      "          self.run_command(cmd)\n",
      "          ~~~~~~~~~~~~~~~~^^^^^\n",
      "        File \"C:\\Users\\B VISHNU\\AppData\\Local\\Temp\\pip-build-env-ccpsu3_3\\overlay\\Lib\\site-packages\\setuptools\\dist.py\", line 999, in run_command\n",
      "          super().run_command(command)\n",
      "          ~~~~~~~~~~~~~~~~~~~^^^^^^^^^\n",
      "        File \"C:\\Users\\B VISHNU\\AppData\\Local\\Temp\\pip-build-env-ccpsu3_3\\overlay\\Lib\\site-packages\\setuptools\\_distutils\\dist.py\", line 973, in run_command\n",
      "          cmd_obj.run()\n",
      "          ~~~~~~~~~~~^^\n",
      "        File \"C:\\Users\\B VISHNU\\AppData\\Local\\Temp\\pip-build-env-ccpsu3_3\\overlay\\Lib\\site-packages\\setuptools\\command\\bdist_wheel.py\", line 410, in run\n",
      "          self.run_command(\"build\")\n",
      "          ~~~~~~~~~~~~~~~~^^^^^^^^^\n",
      "        File \"C:\\Users\\B VISHNU\\AppData\\Local\\Temp\\pip-build-env-ccpsu3_3\\overlay\\Lib\\site-packages\\setuptools\\_distutils\\cmd.py\", line 316, in run_command\n",
      "          self.distribution.run_command(command)\n",
      "          ~~~~~~~~~~~~~~~~~~~~~~~~~~~~~^^^^^^^^^\n",
      "        File \"C:\\Users\\B VISHNU\\AppData\\Local\\Temp\\pip-build-env-ccpsu3_3\\overlay\\Lib\\site-packages\\setuptools\\dist.py\", line 999, in run_command\n",
      "          super().run_command(command)\n",
      "          ~~~~~~~~~~~~~~~~~~~^^^^^^^^^\n",
      "        File \"C:\\Users\\B VISHNU\\AppData\\Local\\Temp\\pip-build-env-ccpsu3_3\\overlay\\Lib\\site-packages\\setuptools\\_distutils\\dist.py\", line 973, in run_command\n",
      "          cmd_obj.run()\n",
      "          ~~~~~~~~~~~^^\n",
      "        File \"C:\\Users\\B VISHNU\\AppData\\Local\\Temp\\pip-build-env-ccpsu3_3\\overlay\\Lib\\site-packages\\setuptools\\_distutils\\command\\build.py\", line 135, in run\n",
      "          self.run_command(cmd_name)\n",
      "          ~~~~~~~~~~~~~~~~^^^^^^^^^^\n",
      "        File \"C:\\Users\\B VISHNU\\AppData\\Local\\Temp\\pip-build-env-ccpsu3_3\\overlay\\Lib\\site-packages\\setuptools\\_distutils\\cmd.py\", line 316, in run_command\n",
      "          self.distribution.run_command(command)\n",
      "          ~~~~~~~~~~~~~~~~~~~~~~~~~~~~~^^^^^^^^^\n",
      "        File \"C:\\Users\\B VISHNU\\AppData\\Local\\Temp\\pip-build-env-ccpsu3_3\\overlay\\Lib\\site-packages\\setuptools\\dist.py\", line 999, in run_command\n",
      "          super().run_command(command)\n",
      "          ~~~~~~~~~~~~~~~~~~~^^^^^^^^^\n",
      "        File \"C:\\Users\\B VISHNU\\AppData\\Local\\Temp\\pip-build-env-ccpsu3_3\\overlay\\Lib\\site-packages\\setuptools\\_distutils\\dist.py\", line 973, in run_command\n",
      "          cmd_obj.run()\n",
      "          ~~~~~~~~~~~^^\n",
      "        File \"<string>\", line 168, in run\n",
      "        File \"<string>\", line 206, in build_extension\n",
      "        File \"c:\\Users\\B VISHNU\\AppData\\Local\\Programs\\Python\\Python313\\Lib\\subprocess.py\", line 419, in check_call\n",
      "          raise CalledProcessError(retcode, cmd)\n",
      "      subprocess.CalledProcessError: Command '['cmake', 'C:\\\\Users\\\\B VISHNU\\\\AppData\\\\Local\\\\Temp\\\\pip-install-61dann05\\\\dlib_2237fdda286e41b4be77ec5bb71ec7e0\\\\tools\\\\python', '-DCMAKE_LIBRARY_OUTPUT_DIRECTORY=C:\\\\Users\\\\B VISHNU\\\\AppData\\\\Local\\\\Temp\\\\pip-install-61dann05\\\\dlib_2237fdda286e41b4be77ec5bb71ec7e0\\\\build\\\\lib.win-amd64-cpython-313', '-DPYTHON_EXECUTABLE=c:\\\\Users\\\\B VISHNU\\\\AppData\\\\Local\\\\Programs\\\\Python\\\\Python313\\\\python.exe', '-DDLIB_USE_FFMPEG=OFF', '-DCMAKE_LIBRARY_OUTPUT_DIRECTORY_RELEASE=C:\\\\Users\\\\B VISHNU\\\\AppData\\\\Local\\\\Temp\\\\pip-install-61dann05\\\\dlib_2237fdda286e41b4be77ec5bb71ec7e0\\\\build\\\\lib.win-amd64-cpython-313', '-A', 'x64']' returned non-zero exit status 1.\n",
      "      [end of output]\n",
      "  \n",
      "  note: This error originates from a subprocess, and is likely not a problem with pip.\n",
      "  ERROR: Failed building wheel for dlib\n",
      "ERROR: ERROR: Failed to build installable wheels for some pyproject.toml based projects (dlib)\n"
     ]
    }
   ],
   "source": [
    "%pip install dlib\n"
   ]
  },
  {
   "cell_type": "code",
   "execution_count": 4,
   "metadata": {},
   "outputs": [
    {
     "name": "stdout",
     "output_type": "stream",
     "text": [
      "Processing .\\dlib-19.24.0-cp313-cp313-win_amd64.whl\n"
     ]
    },
    {
     "name": "stderr",
     "output_type": "stream",
     "text": [
      "WARNING: Requirement 'dlib-19.24.0-cp313-cp313-win_amd64.whl' looks like a filename, but the file does not exist\n",
      "ERROR: Could not install packages due to an OSError: [Errno 2] No such file or directory: 'D:\\\\minor\\\\dlib-19.24.0-cp313-cp313-win_amd64.whl'\n",
      "\n"
     ]
    }
   ],
   "source": [
    "!pip install dlib-19.24.0-cp313-cp313-win_amd64.whl"
   ]
  },
  {
   "cell_type": "code",
   "execution_count": 4,
   "metadata": {},
   "outputs": [
    {
     "name": "stdout",
     "output_type": "stream",
     "text": [
      "Note: you may need to restart the kernel to use updated packages.\n"
     ]
    },
    {
     "name": "stderr",
     "output_type": "stream",
     "text": [
      "WARNING: Requirement 'C:\\\\Downloads\\\\dlib-19.24.6-cp39-cp39-win_amd64.whl' looks like a filename, but the file does not exist\n",
      "ERROR: dlib-19.24.6-cp39-cp39-win_amd64.whl is not a supported wheel on this platform.\n"
     ]
    }
   ],
   "source": [
    "%pip install C:\\Downloads\\dlib-19.24.6-cp39-cp39-win_amd64.whl\n"
   ]
  },
  {
   "cell_type": "code",
   "execution_count": 8,
   "metadata": {},
   "outputs": [
    {
     "name": "stdout",
     "output_type": "stream",
     "text": [
      "Requirement already satisfied: pip in c:\\users\\b vishnu\\appdata\\local\\programs\\python\\python313\\lib\\site-packages (24.3.1)\n",
      "Note: you may need to restart the kernel to use updated packages.\n"
     ]
    }
   ],
   "source": [
    "%pip install --upgrade pip\n",
    "\n"
   ]
  },
  {
   "cell_type": "code",
   "execution_count": 1,
   "metadata": {},
   "outputs": [
    {
     "name": "stdout",
     "output_type": "stream",
     "text": [
      "Note: you may need to restart the kernel to use updated packages.\n"
     ]
    },
    {
     "name": "stderr",
     "output_type": "stream",
     "text": [
      "ERROR: Could not find a version that satisfies the requirement tensorflow==2.5.0 (from versions: none)\n",
      "ERROR: No matching distribution found for tensorflow==2.5.0\n"
     ]
    }
   ],
   "source": [
    "%pip install tensorflow==2.5.0\n"
   ]
  },
  {
   "cell_type": "code",
   "execution_count": 3,
   "metadata": {},
   "outputs": [
    {
     "name": "stderr",
     "output_type": "stream",
     "text": [
      "ERROR: Could not find a version that satisfies the requirement tensorflow (from versions: none)\n",
      "ERROR: No matching distribution found for tensorflow\n"
     ]
    }
   ],
   "source": [
    "!pip install tensorflow\n"
   ]
  },
  {
   "cell_type": "code",
   "execution_count": 6,
   "metadata": {},
   "outputs": [
    {
     "name": "stdout",
     "output_type": "stream",
     "text": [
      "Collecting retinafaceNote: you may need to restart the kernel to use updated packages.\n",
      "\n",
      "  Using cached retinaface-1.1.1-py3-none-any.whl.metadata (2.1 kB)\n",
      "INFO: pip is looking at multiple versions of retinaface to determine which version is compatible with other requirements. This could take a while.\n",
      "  Using cached retinaface-1.1.0-py3-none-any.whl.metadata (2.0 kB)\n",
      "  Using cached retinaface-0.0.6-py3-none-any.whl.metadata (1.6 kB)\n",
      "  Using cached retinaface-0.0.5-py3-none-any.whl.metadata (1.4 kB)\n",
      "  Using cached retinaface-0.0.4-py3-none-any.whl.metadata (725 bytes)\n",
      "  Using cached retinaface-0.0.3-py3-none-any.whl.metadata (725 bytes)\n",
      "  Using cached retinaface-0.0.2-py3-none-any.whl.metadata (725 bytes)\n",
      "  Using cached retinaface-0.0.1-py3-none-any.whl.metadata (725 bytes)\n",
      "INFO: pip is still looking at multiple versions of retinaface to determine which version is compatible with other requirements. This could take a while.\n",
      "\n",
      "The conflict is caused by:\n",
      "    retinaface 1.1.1 depends on tensorflow==2.5.0\n",
      "    retinaface 1.1.0 depends on tensorflow==2.5.0\n",
      "    retinaface 0.0.6 depends on tensorflow==2.1.0\n",
      "    retinaface 0.0.5 depends on tensorflow==2.1.0\n",
      "    retinaface 0.0.4 depends on tensorflow==2.1.0\n",
      "    retinaface 0.0.3 depends on tensorflow==2.1.0\n",
      "    retinaface 0.0.2 depends on tensorflow==2.1.0\n",
      "    retinaface 0.0.1 depends on tensorflow==2.1.0\n",
      "\n",
      "To fix this you could try to:\n",
      "1. loosen the range of package versions you've specified\n",
      "2. remove package versions to allow pip to attempt to solve the dependency conflict\n",
      "\n"
     ]
    },
    {
     "name": "stderr",
     "output_type": "stream",
     "text": [
      "ERROR: Cannot install retinaface==0.0.1, retinaface==0.0.2, retinaface==0.0.3, retinaface==0.0.4, retinaface==0.0.5, retinaface==0.0.6, retinaface==1.1.0 and retinaface==1.1.1 because these package versions have conflicting dependencies.\n",
      "ERROR: ResolutionImpossible: for help visit https://pip.pypa.io/en/latest/topics/dependency-resolution/#dealing-with-dependency-conflicts\n"
     ]
    }
   ],
   "source": [
    "%pip install retinaface\n",
    "\n"
   ]
  },
  {
   "cell_type": "code",
   "execution_count": 2,
   "metadata": {},
   "outputs": [
    {
     "name": "stdout",
     "output_type": "stream",
     "text": [
      "Requirement already satisfied: wheel in c:\\users\\b vishnu\\appdata\\local\\programs\\python\\python313\\lib\\site-packages (0.44.0)\n",
      "Requirement already satisfied: setuptools in c:\\users\\b vishnu\\appdata\\local\\programs\\python\\python313\\lib\\site-packages (75.3.0)\n"
     ]
    }
   ],
   "source": [
    "!pip install --upgrade wheel setuptools"
   ]
  },
  {
   "cell_type": "code",
   "execution_count": 3,
   "metadata": {},
   "outputs": [
    {
     "name": "stdout",
     "output_type": "stream",
     "text": [
      "Collecting dlib\n",
      "  Using cached dlib-19.24.6.tar.gz (3.4 MB)\n",
      "  Preparing metadata (setup.py): started\n",
      "  Preparing metadata (setup.py): finished with status 'done'\n",
      "Building wheels for collected packages: dlib\n",
      "  Building wheel for dlib (setup.py): started\n",
      "  Building wheel for dlib (setup.py): finished with status 'error'\n",
      "  Running setup.py clean for dlib\n",
      "Failed to build dlib\n"
     ]
    },
    {
     "name": "stderr",
     "output_type": "stream",
     "text": [
      "  error: subprocess-exited-with-error\n",
      "  \n",
      "  × python setup.py bdist_wheel did not run successfully.\n",
      "  │ exit code: 1\n",
      "  ╰─> [113 lines of output]\n",
      "      C:\\Users\\B VISHNU\\AppData\\Local\\Temp\\pip-install-8j33lin6\\dlib_616503588ff34c998a12f385959399a2\\setup.py:234: SyntaxWarning: invalid escape sequence '\\('\n",
      "        major = re.findall(\"set\\(CPACK_PACKAGE_VERSION_MAJOR.*\\\"(.*)\\\"\", open(cmake_file).read())[0]\n",
      "      C:\\Users\\B VISHNU\\AppData\\Local\\Temp\\pip-install-8j33lin6\\dlib_616503588ff34c998a12f385959399a2\\setup.py:235: SyntaxWarning: invalid escape sequence '\\('\n",
      "        minor = re.findall(\"set\\(CPACK_PACKAGE_VERSION_MINOR.*\\\"(.*)\\\"\", open(cmake_file).read())[0]\n",
      "      C:\\Users\\B VISHNU\\AppData\\Local\\Temp\\pip-install-8j33lin6\\dlib_616503588ff34c998a12f385959399a2\\setup.py:236: SyntaxWarning: invalid escape sequence '\\('\n",
      "        patch = re.findall(\"set\\(CPACK_PACKAGE_VERSION_PATCH.*\\\"(.*)\\\"\", open(cmake_file).read())[0]\n",
      "      running bdist_wheel\n",
      "      running build\n",
      "      running build_ext\n",
      "      C:\\Users\\B VISHNU\\AppData\\Local\\Temp\\pip-install-8j33lin6\\dlib_616503588ff34c998a12f385959399a2\\setup.py:163: DeprecationWarning: distutils Version classes are deprecated. Use packaging.version instead.\n",
      "        if LooseVersion(cmake_version) < '3.1.0':\n",
      "      Building extension for Python 3.13.0 (tags/v3.13.0:60403a5, Oct  7 2024, 09:38:07) [MSC v.1941 64 bit (AMD64)]\n",
      "      Invoking CMake setup: 'cmake C:\\Users\\B VISHNU\\AppData\\Local\\Temp\\pip-install-8j33lin6\\dlib_616503588ff34c998a12f385959399a2\\tools\\python -DCMAKE_LIBRARY_OUTPUT_DIRECTORY=C:\\Users\\B VISHNU\\AppData\\Local\\Temp\\pip-install-8j33lin6\\dlib_616503588ff34c998a12f385959399a2\\build\\lib.win-amd64-cpython-313 -DPYTHON_EXECUTABLE=c:\\Users\\B VISHNU\\AppData\\Local\\Programs\\Python\\Python313\\python.exe -DDLIB_USE_FFMPEG=OFF -DCMAKE_LIBRARY_OUTPUT_DIRECTORY_RELEASE=C:\\Users\\B VISHNU\\AppData\\Local\\Temp\\pip-install-8j33lin6\\dlib_616503588ff34c998a12f385959399a2\\build\\lib.win-amd64-cpython-313 -A x64'\n",
      "      -- Building for: NMake Makefiles\n",
      "      CMake Deprecation Warning at CMakeLists.txt:2 (CMAKE_MINIMUM_REQUIRED):\n",
      "        Compatibility with CMake < 3.10 will be removed from a future version of\n",
      "        CMake.\n",
      "      \n",
      "        Update the VERSION argument <min> value or use a ...<max> suffix to tell\n",
      "        CMake that the project does not need compatibility with older versions.\n",
      "      \n",
      "      \n",
      "      CMake Error at CMakeLists.txt:5 (message):\n",
      "      \n",
      "      \n",
      "      \n",
      "        !!!!!!!!!!!!!!!!!!!!!!!!!!!!!!!!!!!!!!!!!!!!!!!!!!!!!!!!!!!!!!!!!!!!!!!!!!!!!!!\n",
      "      \n",
      "      \n",
      "        You must use Visual Studio to build a python extension on windows.  If you\n",
      "        are getting this error it means you have not installed Visual C++.  Note\n",
      "        that there are many flavors of Visual Studio, like Visual Studio for C#\n",
      "        development.  You need to install Visual Studio for C++.\n",
      "      \n",
      "      \n",
      "        !!!!!!!!!!!!!!!!!!!!!!!!!!!!!!!!!!!!!!!!!!!!!!!!!!!!!!!!!!!!!!!!!!!!!!!!!!!!!!!\n",
      "      \n",
      "      \n",
      "      \n",
      "      \n",
      "      -- Configuring incomplete, errors occurred!\n",
      "      Traceback (most recent call last):\n",
      "        File \"<string>\", line 2, in <module>\n",
      "          exec(compile('''\n",
      "          ~~~~^^^^^^^^^^^^\n",
      "          # This is <pip-setuptools-caller> -- a caller that pip uses to run setup.py\n",
      "          ^^^^^^^^^^^^^^^^^^^^^^^^^^^^^^^^^^^^^^^^^^^^^^^^^^^^^^^^^^^^^^^^^^^^^^^^^^^\n",
      "          ...<31 lines>...\n",
      "          exec(compile(setup_py_code, filename, \"exec\"))\n",
      "          ^^^^^^^^^^^^^^^^^^^^^^^^^^^^^^^^^^^^^^^^^^^^^^\n",
      "          ''' % ('C:\\\\Users\\\\B VISHNU\\\\AppData\\\\Local\\\\Temp\\\\pip-install-8j33lin6\\\\dlib_616503588ff34c998a12f385959399a2\\\\setup.py',), \"<pip-setuptools-caller>\", \"exec\"))\n",
      "          ^^^^^^^^^^^^^^^^^^^^^^^^^^^^^^^^^^^^^^^^^^^^^^^^^^^^^^^^^^^^^^^^^^^^^^^^^^^^^^^^^^^^^^^^^^^^^^^^^^^^^^^^^^^^^^^^^^^^^^^^^^^^^^^^^^^^^^^^^^^^^^^^^^^^^^^^^^^^^^^^\n",
      "        File \"<pip-setuptools-caller>\", line 34, in <module>\n",
      "        File \"C:\\Users\\B VISHNU\\AppData\\Local\\Temp\\pip-install-8j33lin6\\dlib_616503588ff34c998a12f385959399a2\\setup.py\", line 243, in <module>\n",
      "          setup(\n",
      "          ~~~~~^\n",
      "              name='dlib',\n",
      "              ^^^^^^^^^^^^\n",
      "          ...<29 lines>...\n",
      "              ],\n",
      "              ^^\n",
      "          )\n",
      "          ^\n",
      "        File \"c:\\Users\\B VISHNU\\AppData\\Local\\Programs\\Python\\Python313\\Lib\\site-packages\\setuptools\\__init__.py\", line 117, in setup\n",
      "          return distutils.core.setup(**attrs)\n",
      "                 ~~~~~~~~~~~~~~~~~~~~^^^^^^^^^\n",
      "        File \"c:\\Users\\B VISHNU\\AppData\\Local\\Programs\\Python\\Python313\\Lib\\site-packages\\setuptools\\_distutils\\core.py\", line 183, in setup\n",
      "          return run_commands(dist)\n",
      "        File \"c:\\Users\\B VISHNU\\AppData\\Local\\Programs\\Python\\Python313\\Lib\\site-packages\\setuptools\\_distutils\\core.py\", line 199, in run_commands\n",
      "          dist.run_commands()\n",
      "          ~~~~~~~~~~~~~~~~~^^\n",
      "        File \"c:\\Users\\B VISHNU\\AppData\\Local\\Programs\\Python\\Python313\\Lib\\site-packages\\setuptools\\_distutils\\dist.py\", line 954, in run_commands\n",
      "          self.run_command(cmd)\n",
      "          ~~~~~~~~~~~~~~~~^^^^^\n",
      "        File \"c:\\Users\\B VISHNU\\AppData\\Local\\Programs\\Python\\Python313\\Lib\\site-packages\\setuptools\\dist.py\", line 999, in run_command\n",
      "          super().run_command(command)\n",
      "          ~~~~~~~~~~~~~~~~~~~^^^^^^^^^\n",
      "        File \"c:\\Users\\B VISHNU\\AppData\\Local\\Programs\\Python\\Python313\\Lib\\site-packages\\setuptools\\_distutils\\dist.py\", line 973, in run_command\n",
      "          cmd_obj.run()\n",
      "          ~~~~~~~~~~~^^\n",
      "        File \"c:\\Users\\B VISHNU\\AppData\\Local\\Programs\\Python\\Python313\\Lib\\site-packages\\setuptools\\command\\bdist_wheel.py\", line 410, in run\n",
      "          self.run_command(\"build\")\n",
      "          ~~~~~~~~~~~~~~~~^^^^^^^^^\n",
      "        File \"c:\\Users\\B VISHNU\\AppData\\Local\\Programs\\Python\\Python313\\Lib\\site-packages\\setuptools\\_distutils\\cmd.py\", line 316, in run_command\n",
      "          self.distribution.run_command(command)\n",
      "          ~~~~~~~~~~~~~~~~~~~~~~~~~~~~~^^^^^^^^^\n",
      "        File \"c:\\Users\\B VISHNU\\AppData\\Local\\Programs\\Python\\Python313\\Lib\\site-packages\\setuptools\\dist.py\", line 999, in run_command\n",
      "          super().run_command(command)\n",
      "          ~~~~~~~~~~~~~~~~~~~^^^^^^^^^\n",
      "        File \"c:\\Users\\B VISHNU\\AppData\\Local\\Programs\\Python\\Python313\\Lib\\site-packages\\setuptools\\_distutils\\dist.py\", line 973, in run_command\n",
      "          cmd_obj.run()\n",
      "          ~~~~~~~~~~~^^\n",
      "        File \"c:\\Users\\B VISHNU\\AppData\\Local\\Programs\\Python\\Python313\\Lib\\site-packages\\setuptools\\_distutils\\command\\build.py\", line 135, in run\n",
      "          self.run_command(cmd_name)\n",
      "          ~~~~~~~~~~~~~~~~^^^^^^^^^^\n",
      "        File \"c:\\Users\\B VISHNU\\AppData\\Local\\Programs\\Python\\Python313\\Lib\\site-packages\\setuptools\\_distutils\\cmd.py\", line 316, in run_command\n",
      "          self.distribution.run_command(command)\n",
      "          ~~~~~~~~~~~~~~~~~~~~~~~~~~~~~^^^^^^^^^\n",
      "        File \"c:\\Users\\B VISHNU\\AppData\\Local\\Programs\\Python\\Python313\\Lib\\site-packages\\setuptools\\dist.py\", line 999, in run_command\n",
      "          super().run_command(command)\n",
      "          ~~~~~~~~~~~~~~~~~~~^^^^^^^^^\n",
      "        File \"c:\\Users\\B VISHNU\\AppData\\Local\\Programs\\Python\\Python313\\Lib\\site-packages\\setuptools\\_distutils\\dist.py\", line 973, in run_command\n",
      "          cmd_obj.run()\n",
      "          ~~~~~~~~~~~^^\n",
      "        File \"C:\\Users\\B VISHNU\\AppData\\Local\\Temp\\pip-install-8j33lin6\\dlib_616503588ff34c998a12f385959399a2\\setup.py\", line 168, in run\n",
      "          self.build_extension(ext)\n",
      "          ~~~~~~~~~~~~~~~~~~~~^^^^^\n",
      "        File \"C:\\Users\\B VISHNU\\AppData\\Local\\Temp\\pip-install-8j33lin6\\dlib_616503588ff34c998a12f385959399a2\\setup.py\", line 206, in build_extension\n",
      "          subprocess.check_call(cmake_setup, cwd=build_folder)\n",
      "          ~~~~~~~~~~~~~~~~~~~~~^^^^^^^^^^^^^^^^^^^^^^^^^^^^^^^\n",
      "        File \"c:\\Users\\B VISHNU\\AppData\\Local\\Programs\\Python\\Python313\\Lib\\subprocess.py\", line 419, in check_call\n",
      "          raise CalledProcessError(retcode, cmd)\n",
      "      subprocess.CalledProcessError: Command '['cmake', 'C:\\\\Users\\\\B VISHNU\\\\AppData\\\\Local\\\\Temp\\\\pip-install-8j33lin6\\\\dlib_616503588ff34c998a12f385959399a2\\\\tools\\\\python', '-DCMAKE_LIBRARY_OUTPUT_DIRECTORY=C:\\\\Users\\\\B VISHNU\\\\AppData\\\\Local\\\\Temp\\\\pip-install-8j33lin6\\\\dlib_616503588ff34c998a12f385959399a2\\\\build\\\\lib.win-amd64-cpython-313', '-DPYTHON_EXECUTABLE=c:\\\\Users\\\\B VISHNU\\\\AppData\\\\Local\\\\Programs\\\\Python\\\\Python313\\\\python.exe', '-DDLIB_USE_FFMPEG=OFF', '-DCMAKE_LIBRARY_OUTPUT_DIRECTORY_RELEASE=C:\\\\Users\\\\B VISHNU\\\\AppData\\\\Local\\\\Temp\\\\pip-install-8j33lin6\\\\dlib_616503588ff34c998a12f385959399a2\\\\build\\\\lib.win-amd64-cpython-313', '-A', 'x64']' returned non-zero exit status 1.\n",
      "      [end of output]\n",
      "  \n",
      "  note: This error originates from a subprocess, and is likely not a problem with pip.\n",
      "  ERROR: Failed building wheel for dlib\n",
      "ERROR: ERROR: Failed to build installable wheels for some pyproject.toml based projects (dlib)\n"
     ]
    }
   ],
   "source": [
    "!pip install dlib"
   ]
  },
  {
   "cell_type": "code",
   "execution_count": 4,
   "metadata": {},
   "outputs": [
    {
     "ename": "ModuleNotFoundError",
     "evalue": "No module named 'retinaface'",
     "output_type": "error",
     "traceback": [
      "\u001b[1;31m---------------------------------------------------------------------------\u001b[0m",
      "\u001b[1;31mModuleNotFoundError\u001b[0m                       Traceback (most recent call last)",
      "Cell \u001b[1;32mIn[4], line 3\u001b[0m\n\u001b[0;32m      1\u001b[0m \u001b[38;5;28;01mimport\u001b[39;00m \u001b[38;5;21;01mcv2\u001b[39;00m\n\u001b[0;32m      2\u001b[0m \u001b[38;5;28;01mimport\u001b[39;00m \u001b[38;5;21;01mnumpy\u001b[39;00m \u001b[38;5;28;01mas\u001b[39;00m \u001b[38;5;21;01mnp\u001b[39;00m\n\u001b[1;32m----> 3\u001b[0m \u001b[38;5;28;01mfrom\u001b[39;00m \u001b[38;5;21;01mretinaface\u001b[39;00m \u001b[38;5;28;01mimport\u001b[39;00m RetinaFace\n\u001b[0;32m      4\u001b[0m \u001b[38;5;28;01mimport\u001b[39;00m \u001b[38;5;21;01mface_recognition\u001b[39;00m\n\u001b[0;32m      5\u001b[0m \u001b[38;5;28;01mimport\u001b[39;00m \u001b[38;5;21;01mos\u001b[39;00m\n",
      "\u001b[1;31mModuleNotFoundError\u001b[0m: No module named 'retinaface'"
     ]
    }
   ],
   "source": [
    "import cv2\n",
    "import numpy as np\n",
    "from retinaface import RetinaFace\n",
    "import face_recognition\n",
    "import os\n",
    "import pandas as pd\n",
    "from datetime import datetime, timedelta\n",
    "\n",
    "# Directory containing known faces\n",
    "KNOWN_FACES_DIR = r\"C:\\Users\\vamshi\\OneDrive\\Desktop\\retina\\Training_images\"\n",
    "TOLERANCE = 0.6\n",
    "FRAME_THICKNESS = 3\n",
    "FONT_THICKNESS = 2\n",
    "MODEL = \"cnn\"\n",
    "\n",
    "# Constants for periods and attendance calculation\n",
    "PERIOD_TIMES = [\n",
    "    (9, 10),   # Period 1: 9-10 am\n",
    "    (10, 11),  # Period 2: 10-11 am\n",
    "    (11, 12),  # Period 3: 11-12 pm\n",
    "    (13, 14),  # Period 4: 1-2 pm\n",
    "    (14, 15),  # Period 5: 2-3 pm\n",
    "    (15, 16)   # Period 6: 3-4 pm\n",
    "]\n",
    "TOTAL_PERIODS = 6\n",
    "MINIMUM_DURATION = 45  # in minutes to log attendance for the period\n",
    "\n",
    "# Load known faces and their encodings\n",
    "def load_known_faces():\n",
    "    known_faces = []\n",
    "    known_names = []\n",
    "\n",
    "    for name in os.listdir(KNOWN_FACES_DIR):\n",
    "        for filename in os.listdir(f\"{KNOWN_FACES_DIR}/{name}\"):\n",
    "            image = face_recognition.load_image_file(f\"{KNOWN_FACES_DIR}/{name}/{filename}\")\n",
    "            encodings = face_recognition.face_encodings(image)\n",
    "            if encodings:\n",
    "                known_faces.append(encodings[0])\n",
    "                known_names.append(name)\n",
    "    print(\"Loaded known faces.\")\n",
    "    return known_faces, known_names\n",
    "\n",
    "# Initialize or update attendance file with columns for each period and Total and Percentage\n",
    "def initialize_attendance_file(known_names):\n",
    "    attendance_file = r'C:\\Users\\vamshi\\OneDrive\\Desktop\\retina\\Attend.xlsx'\n",
    "    if not os.path.exists(attendance_file):\n",
    "        columns = ['Name'] + [f'Period {i+1}' for i in range(TOTAL_PERIODS)] + ['Total', 'Percentage']\n",
    "        attendance_data = pd.DataFrame(columns=columns)\n",
    "        attendance_data['Name'] = known_names\n",
    "        attendance_data.fillna(0, inplace=True)  # Set initial attendance to 0\n",
    "        attendance_data.to_excel(attendance_file, index=False)\n",
    "    else:\n",
    "        attendance_data = pd.read_excel(attendance_file, engine='openpyxl')\n",
    "    return attendance_data\n",
    "\n",
    "# Determine current period based on the current time\n",
    "def get_period_index(current_time):\n",
    "    for i, (start, end) in enumerate(PERIOD_TIMES):\n",
    "        if start <= current_time.hour < end:\n",
    "            return i  # Return the period index (0 for Period 1, etc.)\n",
    "    return None  # Return None if outside period times\n",
    "\n",
    "# Update attendance for each period based on entry and exit times\n",
    "def update_attendance(name, timestamp, event_type, attendance_data, last_entry_times):\n",
    "    attendance_file = r'C:\\Users\\vamshi\\OneDrive\\Desktop\\retina\\Attend.xlsx'\n",
    "    current_time = datetime.strptime(timestamp, '%Y-%m-%d %H:%M:%S')\n",
    "    period_index = get_period_index(current_time)\n",
    "    \n",
    "    if period_index is not None:\n",
    "        period_col = f'Period {period_index + 1}'\n",
    "        \n",
    "        if event_type == 'entry':\n",
    "            last_entry_times[name] = current_time  # Store entry time\n",
    "        elif event_type == 'exit' and name in last_entry_times:\n",
    "            entry_time = last_entry_times.pop(name, None)  # Retrieve and remove the entry time\n",
    "            duration = (current_time - entry_time).total_seconds() / 60  # Convert to minutes\n",
    "\n",
    "            # Log attendance only if the duration is at least 45 minutes\n",
    "            if duration >= MINIMUM_DURATION:\n",
    "                attendance_data.loc[attendance_data['Name'] == name, period_col] += 1\n",
    "\n",
    "                # Update total attendance count\n",
    "                attendance_data['Total'] = attendance_data[[f'Period {i + 1}' for i in range(TOTAL_PERIODS)]].sum(axis=1)\n",
    "\n",
    "                # Update percentage\n",
    "                total_attended = attendance_data.loc[attendance_data['Name'] == name, 'Total'].values[0]\n",
    "                attendance_data.loc[attendance_data['Name'] == name, 'Percentage'] = (total_attended / TOTAL_PERIODS) * 100\n",
    "\n",
    "                # Save updated attendance data to Excel\n",
    "                attendance_data.to_excel(attendance_file, index=False)\n",
    "                print(f\"Updated attendance for {name} for {period_col} (duration: {duration} mins)\")\n",
    "\n",
    "# Recognize faces from entry and exit cameras and process attendance\n",
    "def recognize_faces_multi_camera(known_faces, known_names):\n",
    "    cap_entry = cv2.VideoCapture(0)  # Entry camera\n",
    "    cap_exit = cv2.VideoCapture(1)   # Exit camera\n",
    "\n",
    "    attendance_data = initialize_attendance_file(known_names)\n",
    "    last_entry_times = {}  # Dictionary to track last entry times for each person\n",
    "\n",
    "    while True:\n",
    "        # Read frames from both entry and exit cameras\n",
    "        ret_entry, frame_entry = cap_entry.read()\n",
    "        ret_exit, frame_exit = cap_exit.read()\n",
    "        if not ret_entry or not ret_exit:\n",
    "            break\n",
    "\n",
    "        # Process entry camera\n",
    "        process_frame(frame_entry, 'entry', known_faces, known_names, attendance_data, last_entry_times)\n",
    "\n",
    "        # Process exit camera\n",
    "        process_frame(frame_exit, 'exit', known_faces, known_names, attendance_data, last_entry_times)\n",
    "\n",
    "        # Display frames for entry and exit cameras\n",
    "        cv2.imshow('Entry Camera', frame_entry)\n",
    "        cv2.imshow('Exit Camera', frame_exit)\n",
    "\n",
    "        if cv2.waitKey(1) & 0xFF == ord('q'):\n",
    "            break\n",
    "\n",
    "    cap_entry.release()\n",
    "    cap_exit.release()\n",
    "    cv2.destroyAllWindows()\n",
    "\n",
    "# Process frames for entry or exit events\n",
    "def process_frame(frame, event_type, known_faces, known_names, attendance_data, last_entry_times):\n",
    "    frame_rgb = cv2.cvtColor(frame, cv2.COLOR_BGR2RGB)\n",
    "    faces = RetinaFace.detect_faces(frame)\n",
    "    face_names = []\n",
    "\n",
    "    for face_key in faces.keys():\n",
    "        facial_area = faces[face_key][\"facial_area\"]\n",
    "        top, right, bottom, left = facial_area[1], facial_area[2], facial_area[3], facial_area[0]\n",
    "        encodings = face_recognition.face_encodings(frame_rgb, [(top, right, bottom, left)])\n",
    "\n",
    "        for encoding in encodings:\n",
    "            matches = face_recognition.compare_faces(known_faces, encoding, TOLERANCE)\n",
    "            name = \"Unknown\"\n",
    "            face_distances = face_recognition.face_distance(known_faces, encoding)\n",
    "            best_match_index = np.argmin(face_distances)\n",
    "            if matches[best_match_index]:\n",
    "                name = known_names[best_match_index]\n",
    "            face_names.append(name)\n",
    "\n",
    "    # Log detected names and timestamps\n",
    "    timestamp = datetime.now().strftime('%Y-%m-%d %H:%M:%S')\n",
    "    for name in face_names:\n",
    "        if name != \"Unknown\":\n",
    "            update_attendance(name, timestamp, event_type, attendance_data, last_entry_times)\n",
    "            print(f\"{event_type.capitalize()} detected for {name} at {timestamp}\")\n",
    "\n",
    "# Entry point\n",
    "if _name_ == \"_main_\":\n",
    "    known_faces, known_names = load_known_faces()\n",
    "    recognize_faces_multi_camera(known_faces, known_names)"
   ]
  }
 ],
 "metadata": {
  "kernelspec": {
   "display_name": "Python 3",
   "language": "python",
   "name": "python3"
  },
  "language_info": {
   "codemirror_mode": {
    "name": "ipython",
    "version": 3
   },
   "file_extension": ".py",
   "mimetype": "text/x-python",
   "name": "python",
   "nbconvert_exporter": "python",
   "pygments_lexer": "ipython3",
   "version": "3.13.0"
  }
 },
 "nbformat": 4,
 "nbformat_minor": 2
}
